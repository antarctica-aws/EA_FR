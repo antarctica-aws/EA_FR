{
 "cells": [
  {
   "cell_type": "code",
   "execution_count": 18,
   "id": "aa78aef3",
   "metadata": {},
   "outputs": [
    {
     "name": "stdout",
     "output_type": "stream",
     "text": [
      "/gpfs/data1/duncansongp/amberliang/EA_data\n"
     ]
    }
   ],
   "source": [
    "import h5py\n",
    "import tabulate\n",
    "import contextily as ctx\n",
    "import numpy as np\n",
    "import pandas as pd\n",
    "import geopandas as gpd\n",
    "import matplotlib.pyplot as plt\n",
    "import rasterio\n",
    "import random\n",
    "import math\n",
    "from datetime import datetime, timedelta\n",
    "# from IPython.display import HTML, display\n",
    "from os import path\n",
    "from shapely.geometry import Point\n",
    "from matplotlib_scalebar.scalebar import ScaleBar\n",
    "from matplotlib.lines import Line2D\n",
    "from matplotlib import cm\n",
    "from matplotlib.colors import ListedColormap\n",
    "from scipy import stats\n",
    "import time\n",
    "import multiprocessing\n",
    "from multiprocessing import Pool\n",
    "from rasterio.plot import show\n",
    "import functools\n",
    "from osgeo import ogr\n",
    "from osgeo import gdal\n",
    "import os\n",
    "cwd = os.getcwd()\n",
    "print(cwd)\n",
    "from glob import glob\n",
    "from os import path"
   ]
  },
  {
   "cell_type": "code",
   "execution_count": 19,
   "id": "31c5ab14",
   "metadata": {},
   "outputs": [
    {
     "name": "stdout",
     "output_type": "stream",
     "text": [
      "aspect\n"
     ]
    }
   ],
   "source": [
    "topo = gdal.Open('/gpfs/data1/duncansongp/amberliang/EA_data/ancillary_vars/topo_stack.tif')\n",
    "print(topo.GetRasterBand(3).GetDescription())"
   ]
  },
  {
   "cell_type": "code",
   "execution_count": 20,
   "id": "231ad817",
   "metadata": {},
   "outputs": [],
   "source": [
    "\n",
    "def get_raster_value(geo_x, geo_y, ds, band_index):\n",
    "#     \"\"\"Return raster value that corresponds to given coordinates.\"\"\"\n",
    "    forward_transform = ds.GetGeoTransform()\n",
    "    pixel_width = forward_transform[1]\n",
    "    pixel_height = -forward_transform[5]    \n",
    "    reverse_transform = gdal.InvGeoTransform(forward_transform)\n",
    "    pixel_coord = gdal.ApplyGeoTransform(reverse_transform, geo_x, geo_y)\n",
    "    pixel_x = math.floor(pixel_coord[0])\n",
    "    pixel_y = math.floor(pixel_coord[1])\n",
    "    band = ds.GetRasterBand(band_index)\n",
    "    val_arr = band.ReadAsArray(pixel_x, pixel_y, 1, 1) # Avoid reading the whole raster into memory - read 1x1 array\n",
    "    if val_arr is None:\n",
    "#         pass\n",
    "#         print(out)\n",
    "        return np.nan\n",
    "    else:\n",
    "        out=val_arr[0][0]\n",
    "#         print(out)\n",
    "        return out\n",
    "def bname(ds, band_index):\n",
    "    return  ds.GetRasterBand(band_index).GetDescription()\n",
    "\n",
    "def getEx(pt, ds):\n",
    "    from shapely.geometry import Polygon\n",
    "    \"\"\" Return list of corner coordinates from a gdal Dataset \"\"\"\n",
    "    xmin, xpixel, _, ymax, _, ypixel = ds.GetGeoTransform()\n",
    "    width, height = ds.RasterXSize, ds.RasterYSize\n",
    "    xmax = xmin + width * xpixel\n",
    "    ymin = ymax + height * ypixel\n",
    "    \n",
    "    poly=Polygon(((xmin, ymax), (xmax, ymax), (xmax, ymin), (xmin, ymin)))\n",
    "    return poly.contains(pt)  #return true or false \n",
    "\n",
    "def ls_Extract(tileX, yr, biome, cornerInd):\n",
    "    #tileX=tileX[0]\n",
    "    print('tile', tileX)\n",
    "    print('yr', yr)\n",
    "    print('biome', biome)\n",
    "    yr=str(yr)\n",
    "    biome=str(biome)\n",
    "\n",
    "    imageStack = \"ls_lhs_medoid_\"+tileX+\"_\"+yr+\"_NBR_3by3_dur8_biome\" + biome+ \"_val_v2-\"+'*.tif'  ####!!![need to modify]!!!###\n",
    "    \n",
    "    out=\"/tilelevel_tile_\"+tileX+\"_cor\"+str(cornerInd)+ '_biom'+biome+'_'+yr+'_topo_lhs_nbr_33_dur8.csv'  ####!!![need to modify]!!!###\n",
    "\n",
    "    #preping the sample dataframe\n",
    "    pdir= \"/gpfs/data1/duncansongp/amberliang/EA_data/landsat_comp/t\"+tileX+'/'+yr   #EA_data/gd_data/  t168050_1986-2021\\2019\n",
    "    # pdir= \"/gpfs/data1/duncansongp/amberliang/gd2/all_metrics_NBR_fitted\"\n",
    "    outdir = '/gpfs/data1/duncansongp/amberliang/EA_data/ls_ltr_training/tile'+tileX+'_filtered_l4a_ls_output_corner'#biome'+str(biome)+'_'+yr\n",
    "    annual_pl= glob.glob(path.join(pdir, imageStack))[cornerInd]  \n",
    "\n",
    "    samples= pd.read_csv('samples/tigray_gedi_samples_biome1_'+yr+'_highval.csv')     ####!!![need to modify]!!!\n",
    "#     samples =pd.read_csv(\"samples/\"+\"biome\"+str(wwfbiome)+\"_topo_training_l4a_l2b_lhs_nbr_33_dur8_empty_ndvi_\"+yr+\".csv\")\n",
    "    print('total samples', samples.shape)\n",
    "    sample2020_min_1 = samples#.iloc[0:100]# [(samples['biome']==int(biome))]#cwd + '/' + \"kibale_lite_for_gee_nicfi_\"+yr+\".csv\") \n",
    "    print('sub samples', sample2020_min_1.shape)\n",
    "    #     sample2020_min_1['shot_number']= sample2020_min_1['shot_number'].astype(str)\n",
    "#     print(sample2020_min_1.dtypes)\n",
    "    sample2020_min_1_gdf= gpd.GeoDataFrame(sample2020_min_1, \n",
    "                                           geometry=gpd.points_from_xy(sample2020_min_1.lon_lowestmode, sample2020_min_1.lat_lowestmode), \n",
    "                                           crs=\"EPSG:4326\")\n",
    "    #add in tile information to the sample gdf for easy filtering in later step\n",
    "#     join = gpd.sjoin(sample2020_min_1_gdf, polys, how='left',op=\"within\")\n",
    "#     sample2020_min_1_gdf = join[join['Name'].notnull()]\n",
    "#     sample2020_min_1_gdf=sample2020_min_1_gdf.drop(['descriptio', 'timestamp', 'begin', 'end', 'altitudeMo',\n",
    "#            'tessellate', 'extrude', 'visibility', 'drawOrder', 'icon', 'geometry','index_right'], axis=1)\n",
    "#     sample2020_min_1_gdf['Name']=sample2020_min_1_gdf['Name'].str.replace('_', '0')\n",
    "#     biomeYrDF= gpd.GeoDataFrame(sample2020_min_1_gdf, geometry=gpd.points_from_xy(sample2020_min_1_gdf.lon_lowestmode, sample2020_min_1_gdf.lat_lowestmode), crs=\"EPSG:4326\")\n",
    "\n",
    "    sample2020_min_1_gdf_tile=sample2020_min_1_gdf\n",
    "    print(sample2020_min_1_gdf_tile.shape)\n",
    "#     sample2020_min_1_gdf_tile = biomeYrDF[biomeYrDF['Name'] == tileX]\n",
    "#     year =\"allVI_NBR_fit_\"+yr+\"_dur_10_PW_\"+tileX+\"_ALL\"+'*.tif'\n",
    "    \n",
    "#     print(\"Tif files for each tile of each year\", list(annual_pl))\n",
    "    print('number of subset in tile: '+str(cornerInd))\n",
    "    \n",
    "    df = pd.DataFrame()\n",
    "    for rcount in range(0,1):#range(0,len(annual_pl)):\n",
    "        print('raster', rcount)\n",
    "        src=gdal.Open(annual_pl)#gdal.Open(annual_pl[rcount])\n",
    "        topo = gdal.Open('/gpfs/data1/duncansongp/amberliang/EA_data/ancillary_vars/topo_stack.tif')\n",
    "        i = 0\n",
    "        while i < len(sample2020_min_1_gdf_tile):\n",
    "            \n",
    "            geo_x, geo_y = sample2020_min_1_gdf_tile.iloc[i]['lon_lowestmode'],sample2020_min_1_gdf_tile.iloc[i]['lat_lowestmode'] #coord_list[i][0], coord_list[i][1]\n",
    "            geom =  sample2020_min_1_gdf_tile.iloc[i].geometry  #convert to point with geom for checking if its in the ras ex\n",
    "            outlist = {}\n",
    "            outlist['shot_number']=  sample2020_min_1_gdf_tile.iloc[i]['shot_number'].astype(str)\n",
    "            outlist['agbd']=  sample2020_min_1_gdf_tile.iloc[i]['agbd']\n",
    "            outlist['lon_lowestmode']=  sample2020_min_1_gdf_tile.iloc[i]['lon_lowestmode']\n",
    "            outlist['lat_lowestmode']=  sample2020_min_1_gdf_tile.iloc[i]['lat_lowestmode']\n",
    "            if getEx(geom, src):\n",
    "#                 print('point in this subset')\n",
    "                print(i)\n",
    "                for b in range(0, src.RasterCount):\n",
    "                    bind=b+1\n",
    "                    out0=get_raster_value(geo_x, geo_y, ds=src, band_index=bind)\n",
    "#                     out00= get_raster_value(geo_x, geo_y, ds=topo, band_index=bind)\n",
    "#                     print(\"extracted\",out0)\n",
    "    #                 print(bname(src, bind))\n",
    "                    if out0 is None:\n",
    "                        out0=np.nan\n",
    "    #                 print(out0)\n",
    "\n",
    "                    outlist[bname(src, bind)]=out0\n",
    "                for t in range(0, topo.RasterCount):\n",
    "                    tind=t+1\n",
    "                    \n",
    "                    out00= get_raster_value(geo_x, geo_y, ds=topo, band_index=tind)\n",
    "#                     print(\"extracted\",out0)\n",
    "    #                 print(bname(src, bind))\n",
    "                    if out00 is None:\n",
    "                        out0=np.nan\n",
    "    #                 print(out0)\n",
    "\n",
    "                    outlist[bname(topo, tind)]=out00\n",
    "#                 print(outlist)\n",
    "                if not (all(np.isnan(value) for value in list(outlist.values())[4:])):\n",
    "#                     print(all(np.isnan(value) for value in list(outlist.values())[1:]))\n",
    "                    df = df.append(outlist, ignore_index=True)\n",
    "                i+=1\n",
    "            else: \n",
    "                i+=1\n",
    "    print(df.shape)\n",
    "    print(df)\n",
    "    \n",
    "    if len(df)>0:\n",
    "#         sample2020_min_1_gdf_tile_out= sample2020_min_1_gdf_tile.join(df, on=\"shot_number\",how='left')\n",
    "#         print(sample2020_min_1_gdf_tile_out.shape)\n",
    "        df = df[(df['ftv_ndvi_fit']!=0) & (df['GDMAG']!=0)]\n",
    "        print(str(len(df))+\" out of total \"+ str(len(sample2020_min_1_gdf_tile))+\" were extracted\")\n",
    "        df.to_csv(outdir+out, index=False)\n",
    "        return(df)\n",
    "#         return df\n",
    "    else:\n",
    "        return df\n"
   ]
  },
  {
   "cell_type": "code",
   "execution_count": 23,
   "id": "3365f820",
   "metadata": {},
   "outputs": [
    {
     "name": "stdout",
     "output_type": "stream",
     "text": [
      "48\n",
      "[('168060', '2021', '1', 0), ('168060', '2021', '1', 1), ('168060', '2021', '1', 2), ('168060', '2021', '1', 3), ('168060', '2021', '1', 4), ('168060', '2021', '1', 5), ('168060', '2021', '1', 6), ('168060', '2021', '1', 7), ('168060', '2021', '1', 8), ('168060', '2021', '1', 9), ('168060', '2021', '1', 10), ('168060', '2021', '1', 11), ('168060', '2021', '1', 12), ('168060', '2021', '1', 13), ('168060', '2021', '1', 14), ('168060', '2021', '1', 15), ('168060', '2020', '1', 0), ('168060', '2020', '1', 1), ('168060', '2020', '1', 2), ('168060', '2020', '1', 3), ('168060', '2020', '1', 4), ('168060', '2020', '1', 5), ('168060', '2020', '1', 6), ('168060', '2020', '1', 7), ('168060', '2020', '1', 8), ('168060', '2020', '1', 9), ('168060', '2020', '1', 10), ('168060', '2020', '1', 11), ('168060', '2020', '1', 12), ('168060', '2020', '1', 13), ('168060', '2020', '1', 14), ('168060', '2020', '1', 15), ('168060', '2019', '1', 0), ('168060', '2019', '1', 1), ('168060', '2019', '1', 2), ('168060', '2019', '1', 3), ('168060', '2019', '1', 4), ('168060', '2019', '1', 5), ('168060', '2019', '1', 6), ('168060', '2019', '1', 7), ('168060', '2019', '1', 8), ('168060', '2019', '1', 9), ('168060', '2019', '1', 10), ('168060', '2019', '1', 11), ('168060', '2019', '1', 12), ('168060', '2019', '1', 13), ('168060', '2019', '1', 14), ('168060', '2019', '1', 15)]\n",
      "tile 168060\n",
      "yr 2020\n",
      "biome 1\n"
     ]
    },
    {
     "ename": "IndexError",
     "evalue": "list index out of range",
     "output_type": "error",
     "traceback": [
      "\u001b[0;31m---------------------------------------------------------------------------\u001b[0m",
      "\u001b[0;31mIndexError\u001b[0m                                Traceback (most recent call last)",
      "\u001b[0;32m<ipython-input-23-8f7a137cf5a3>\u001b[0m in \u001b[0;36m<module>\u001b[0;34m\u001b[0m\n\u001b[1;32m     13\u001b[0m \u001b[0mprint\u001b[0m\u001b[0;34m(\u001b[0m\u001b[0margs\u001b[0m\u001b[0;34m)\u001b[0m\u001b[0;34m\u001b[0m\u001b[0;34m\u001b[0m\u001b[0m\n\u001b[1;32m     14\u001b[0m \u001b[0;34m\u001b[0m\u001b[0m\n\u001b[0;32m---> 15\u001b[0;31m \u001b[0mls_Extract\u001b[0m\u001b[0;34m(\u001b[0m\u001b[0;34m'168060'\u001b[0m\u001b[0;34m,\u001b[0m \u001b[0;34m'2020'\u001b[0m\u001b[0;34m,\u001b[0m \u001b[0;34m'1'\u001b[0m\u001b[0;34m,\u001b[0m \u001b[0;36m1\u001b[0m\u001b[0;34m)\u001b[0m\u001b[0;34m\u001b[0m\u001b[0;34m\u001b[0m\u001b[0m\n\u001b[0m\u001b[1;32m     16\u001b[0m \u001b[0;34m\u001b[0m\u001b[0m\n\u001b[1;32m     17\u001b[0m \u001b[0;31m# parallel processing\u001b[0m\u001b[0;34m\u001b[0m\u001b[0;34m\u001b[0m\u001b[0;34m\u001b[0m\u001b[0m\n",
      "\u001b[0;32m<ipython-input-20-e0a9b9915a95>\u001b[0m in \u001b[0;36mls_Extract\u001b[0;34m(tileX, yr, biome, cornerInd)\u001b[0m\n\u001b[1;32m     48\u001b[0m     \u001b[0;31m# pdir= \"/gpfs/data1/duncansongp/amberliang/gd2/all_metrics_NBR_fitted\"\u001b[0m\u001b[0;34m\u001b[0m\u001b[0;34m\u001b[0m\u001b[0;34m\u001b[0m\u001b[0m\n\u001b[1;32m     49\u001b[0m     \u001b[0moutdir\u001b[0m \u001b[0;34m=\u001b[0m \u001b[0;34m'/gpfs/data1/duncansongp/amberliang/EA_data/ls_ltr_training/tile'\u001b[0m\u001b[0;34m+\u001b[0m\u001b[0mtileX\u001b[0m\u001b[0;34m+\u001b[0m\u001b[0;34m'_filtered_l4a_ls_output_corner'\u001b[0m\u001b[0;31m#biome'+str(biome)+'_'+yr\u001b[0m\u001b[0;34m\u001b[0m\u001b[0;34m\u001b[0m\u001b[0m\n\u001b[0;32m---> 50\u001b[0;31m     \u001b[0mannual_pl\u001b[0m\u001b[0;34m=\u001b[0m \u001b[0mglob\u001b[0m\u001b[0;34m.\u001b[0m\u001b[0mglob\u001b[0m\u001b[0;34m(\u001b[0m\u001b[0mpath\u001b[0m\u001b[0;34m.\u001b[0m\u001b[0mjoin\u001b[0m\u001b[0;34m(\u001b[0m\u001b[0mpdir\u001b[0m\u001b[0;34m,\u001b[0m \u001b[0mimageStack\u001b[0m\u001b[0;34m)\u001b[0m\u001b[0;34m)\u001b[0m\u001b[0;34m[\u001b[0m\u001b[0mcornerInd\u001b[0m\u001b[0;34m]\u001b[0m\u001b[0;34m\u001b[0m\u001b[0;34m\u001b[0m\u001b[0m\n\u001b[0m\u001b[1;32m     51\u001b[0m \u001b[0;34m\u001b[0m\u001b[0m\n\u001b[1;32m     52\u001b[0m     \u001b[0msamples\u001b[0m\u001b[0;34m=\u001b[0m \u001b[0mpd\u001b[0m\u001b[0;34m.\u001b[0m\u001b[0mread_csv\u001b[0m\u001b[0;34m(\u001b[0m\u001b[0;34m'samples/tigray_gedi_samples_biome1_'\u001b[0m\u001b[0;34m+\u001b[0m\u001b[0myr\u001b[0m\u001b[0;34m+\u001b[0m\u001b[0;34m'_highval.csv'\u001b[0m\u001b[0;34m)\u001b[0m     \u001b[0;31m####!!![need to modify]!!!\u001b[0m\u001b[0;34m\u001b[0m\u001b[0;34m\u001b[0m\u001b[0m\n",
      "\u001b[0;31mIndexError\u001b[0m: list index out of range"
     ]
    }
   ],
   "source": [
    "# shp=\"AOI/EA_wgs_tiles.shp\"\n",
    "# polys = gpd.read_file(shp)\n",
    "import glob\n",
    "wwfbiome=1\n",
    "biomeTiles= ['168060']#['173061','173060', '173059', '172061','172060', '172059']#list(pd.read_csv(\"TSMBF_WGS2_tiles.csv\")['Name'].str.replace('_', '0'))# ['169055']\n",
    "yrs= [ '2021','2020','2019']\n",
    "\n",
    "corners=range(0,16)\n",
    "biome=str(wwfbiome)\n",
    "# args = [(biomeTiles, yr, biome) for biomeTiles in biomeTiles]\n",
    "args = [(biomeTiles, yr, biome, cornerInd) for biomeTiles in biomeTiles for yr in yrs for cornerInd in corners]\n",
    "print(len(args))\n",
    "print(args)\n",
    "\n",
    "ls_Extract('168060', '2020', '1', 1)\n",
    "\n",
    "# parallel processing \n",
    "# def main():\n",
    "#     tic = time.time()\n",
    "#     pool = Pool(processes=12)  # set the processes max number 3\n",
    "#     result = pool.starmap(ls_Extract, args)\n",
    "#     pool.terminate()\n",
    "#     pool.join()\n",
    "#     print(result)\n",
    "#     print('end')\n",
    "#     toc = time.time()\n",
    "#     print('Done in {:.4f} seconds'.format(toc-tic))\n",
    "\n",
    "    \n",
    "# if __name__ == \"__main__\":\n",
    "#     main()"
   ]
  },
  {
   "cell_type": "code",
   "execution_count": 10,
   "id": "667f9ddb",
   "metadata": {},
   "outputs": [
    {
     "data": {
      "text/plain": [
       "('169051', '2020', '1', 1)"
      ]
     },
     "execution_count": 10,
     "metadata": {},
     "output_type": "execute_result"
    }
   ],
   "source": [
    "args[1]"
   ]
  },
  {
   "cell_type": "code",
   "execution_count": 24,
   "id": "07a4204e",
   "metadata": {},
   "outputs": [
    {
     "name": "stdout",
     "output_type": "stream",
     "text": [
      "tile 168060\n",
      "yr 2021\n",
      "biome 1\n"
     ]
    },
    {
     "ename": "IndexError",
     "evalue": "list index out of range",
     "output_type": "error",
     "traceback": [
      "\u001b[0;31m---------------------------------------------------------------------------\u001b[0m",
      "\u001b[0;31mIndexError\u001b[0m                                Traceback (most recent call last)",
      "\u001b[0;32m<ipython-input-24-17332e58cc81>\u001b[0m in \u001b[0;36m<module>\u001b[0;34m\u001b[0m\n\u001b[1;32m     17\u001b[0m \u001b[0;31m# pdir= \"/gpfs/data1/duncansongp/amberliang/gd2/all_metrics_NBR_fitted\"\u001b[0m\u001b[0;34m\u001b[0m\u001b[0;34m\u001b[0m\u001b[0;34m\u001b[0m\u001b[0m\n\u001b[1;32m     18\u001b[0m \u001b[0moutdir\u001b[0m \u001b[0;34m=\u001b[0m \u001b[0;34m'/gpfs/data1/duncansongp/amberliang/EA_data/ls_ltr_training/tile'\u001b[0m\u001b[0;34m+\u001b[0m\u001b[0mtileX\u001b[0m\u001b[0;34m+\u001b[0m\u001b[0;34m'_filtered_l4a_ls_output_corner'\u001b[0m\u001b[0;31m#biome'+str(biome)+'_'+yr\u001b[0m\u001b[0;34m\u001b[0m\u001b[0;34m\u001b[0m\u001b[0m\n\u001b[0;32m---> 19\u001b[0;31m \u001b[0mannual_pl\u001b[0m\u001b[0;34m=\u001b[0m \u001b[0mglob\u001b[0m\u001b[0;34m.\u001b[0m\u001b[0mglob\u001b[0m\u001b[0;34m(\u001b[0m\u001b[0mpath\u001b[0m\u001b[0;34m.\u001b[0m\u001b[0mjoin\u001b[0m\u001b[0;34m(\u001b[0m\u001b[0mpdir\u001b[0m\u001b[0;34m,\u001b[0m \u001b[0mimageStack\u001b[0m\u001b[0;34m)\u001b[0m\u001b[0;34m)\u001b[0m\u001b[0;34m[\u001b[0m\u001b[0mcornerInd\u001b[0m\u001b[0;34m]\u001b[0m\u001b[0;34m\u001b[0m\u001b[0;34m\u001b[0m\u001b[0m\n\u001b[0m",
      "\u001b[0;31mIndexError\u001b[0m: list index out of range"
     ]
    }
   ],
   "source": [
    "tileX= '168060'\n",
    "yr ='2021'\n",
    "biome='1'\n",
    "cornerInd =1\n",
    "print('tile', tileX)\n",
    "print('yr', yr)\n",
    "print('biome', biome)\n",
    "yr=str(yr)\n",
    "biome=str(biome)\n",
    "\n",
    "imageStack = \"ls_lhs_medoid_\"+tileX+\"_\"+yr+\"_NBR_3by3_dur8_biome\" + biome+ \"_val_v2-\"+'*.tif'  ####!!![need to modify]!!!###\n",
    "\n",
    "out=\"/tilelevel_tile_\"+tileX+\"_cor\"+str(cornerInd)+ '_biom'+biome+'_'+yr+'_topo_lhs_nbr_33_dur8.csv'  ####!!![need to modify]!!!###\n",
    "\n",
    "#preping the sample dataframe\n",
    "pdir= \"/gpfs/data1/duncansongp/amberliang/EA_data/landsat_comp/t\"+tileX+'/'+yr   #EA_data/gd_data/  t168050_1986-2021\\2019\n",
    "# pdir= \"/gpfs/data1/duncansongp/amberliang/gd2/all_metrics_NBR_fitted\"\n",
    "outdir = '/gpfs/data1/duncansongp/amberliang/EA_data/ls_ltr_training/tile'+tileX+'_filtered_l4a_ls_output_corner'#biome'+str(biome)+'_'+yr\n",
    "annual_pl= glob.glob(path.join(pdir, imageStack))[cornerInd] \n"
   ]
  },
  {
   "cell_type": "code",
   "execution_count": 27,
   "id": "57c08e44",
   "metadata": {},
   "outputs": [
    {
     "data": {
      "text/plain": [
       "'/gpfs/data1/duncansongp/amberliang/EA_data/landsat_comp/t168060/2021/ls_lhs_medoid_168060_2021_NBR_3by3_dur8_biome1_val_v2-*.tif'"
      ]
     },
     "execution_count": 27,
     "metadata": {},
     "output_type": "execute_result"
    }
   ],
   "source": [
    "path.join(pdir, imageStack)"
   ]
  },
  {
   "cell_type": "code",
   "execution_count": 25,
   "id": "fc3dc9b9",
   "metadata": {},
   "outputs": [
    {
     "data": {
      "text/plain": [
       "[]"
      ]
     },
     "execution_count": 25,
     "metadata": {},
     "output_type": "execute_result"
    }
   ],
   "source": [
    "glob.glob(path.join(pdir, imageStack))"
   ]
  }
 ],
 "metadata": {
  "kernelspec": {
   "display_name": "ea_work",
   "language": "python",
   "name": "ea_work"
  },
  "language_info": {
   "codemirror_mode": {
    "name": "ipython",
    "version": 3
   },
   "file_extension": ".py",
   "mimetype": "text/x-python",
   "name": "python",
   "nbconvert_exporter": "python",
   "pygments_lexer": "ipython3",
   "version": "3.7.13"
  }
 },
 "nbformat": 4,
 "nbformat_minor": 5
}
